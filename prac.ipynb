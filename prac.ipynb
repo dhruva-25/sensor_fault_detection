{
 "cells": [
  {
   "cell_type": "code",
   "execution_count": 1,
   "metadata": {},
   "outputs": [],
   "source": [
    "from sensor.exception import SensorException\n",
    "import sys"
   ]
  },
  {
   "cell_type": "code",
   "execution_count": 2,
   "metadata": {},
   "outputs": [
    {
     "ename": "ZeroDivisionError",
     "evalue": "division by zero",
     "output_type": "error",
     "traceback": [
      "\u001b[1;31m---------------------------------------------------------------------------\u001b[0m",
      "\u001b[1;31mZeroDivisionError\u001b[0m                         Traceback (most recent call last)",
      "Cell \u001b[1;32mIn[2], line 2\u001b[0m\n\u001b[0;32m      1\u001b[0m a \u001b[38;5;241m=\u001b[39m \u001b[38;5;241m5\u001b[39m\n\u001b[1;32m----> 2\u001b[0m b \u001b[38;5;241m=\u001b[39m \u001b[43ma\u001b[49m\u001b[38;5;241;43m/\u001b[39;49m\u001b[38;5;241;43m0\u001b[39;49m\n",
      "\u001b[1;31mZeroDivisionError\u001b[0m: division by zero"
     ]
    }
   ],
   "source": [
    "a = 5\n",
    "b = a/0"
   ]
  },
  {
   "cell_type": "code",
   "execution_count": 3,
   "metadata": {},
   "outputs": [
    {
     "ename": "SensorException",
     "evalue": "Error occurred python script name [C:\\Users\\Dhruv Saxena\\AppData\\Local\\Temp\\ipykernel_35576\\1887174479.py] line number [3] error message [division by zero]",
     "output_type": "error",
     "traceback": [
      "\u001b[1;31m---------------------------------------------------------------------------\u001b[0m",
      "\u001b[1;31mZeroDivisionError\u001b[0m                         Traceback (most recent call last)",
      "Cell \u001b[1;32mIn[3], line 3\u001b[0m\n\u001b[0;32m      2\u001b[0m     a\u001b[38;5;241m=\u001b[39m \u001b[38;5;241m5\u001b[39m\n\u001b[1;32m----> 3\u001b[0m     b \u001b[38;5;241m=\u001b[39m \u001b[43ma\u001b[49m\u001b[38;5;241;43m/\u001b[39;49m\u001b[38;5;241;43m0\u001b[39;49m\n\u001b[0;32m      4\u001b[0m \u001b[38;5;28;01mexcept\u001b[39;00m \u001b[38;5;167;01mException\u001b[39;00m \u001b[38;5;28;01mas\u001b[39;00m e:\n",
      "\u001b[1;31mZeroDivisionError\u001b[0m: division by zero",
      "\nDuring handling of the above exception, another exception occurred:\n",
      "\u001b[1;31mSensorException\u001b[0m                           Traceback (most recent call last)",
      "Cell \u001b[1;32mIn[3], line 5\u001b[0m\n\u001b[0;32m      3\u001b[0m     b \u001b[38;5;241m=\u001b[39m a\u001b[38;5;241m/\u001b[39m\u001b[38;5;241m0\u001b[39m\n\u001b[0;32m      4\u001b[0m \u001b[38;5;28;01mexcept\u001b[39;00m \u001b[38;5;167;01mException\u001b[39;00m \u001b[38;5;28;01mas\u001b[39;00m e:\n\u001b[1;32m----> 5\u001b[0m     \u001b[38;5;28;01mraise\u001b[39;00m SensorException(e, sys)\n",
      "\u001b[1;31mSensorException\u001b[0m: Error occurred python script name [C:\\Users\\Dhruv Saxena\\AppData\\Local\\Temp\\ipykernel_35576\\1887174479.py] line number [3] error message [division by zero]"
     ]
    }
   ],
   "source": [
    "try:\n",
    "    a= 5\n",
    "    b = a/0\n",
    "except Exception as e:\n",
    "    raise SensorException(e, sys)"
   ]
  },
  {
   "cell_type": "code",
   "execution_count": 1,
   "metadata": {},
   "outputs": [],
   "source": [
    "from sensor.utils.main_utils import read_yaml_file\n",
    "file_path = \"config\\schema.yaml\""
   ]
  },
  {
   "cell_type": "code",
   "execution_count": 2,
   "metadata": {},
   "outputs": [
    {
     "data": {
      "text/plain": [
       "{'columns': [{'class': 'category'},\n",
       "  {'aa_000': 'int'},\n",
       "  {'ac_000': 'int'},\n",
       "  {'ad_000': 'int'},\n",
       "  {'ae_000': 'int'},\n",
       "  {'af_000': 'int'},\n",
       "  {'ag_000': 'int'},\n",
       "  {'ag_001': 'int'},\n",
       "  {'ag_002': 'int'},\n",
       "  {'ag_003': 'int'},\n",
       "  {'ag_004': 'int'},\n",
       "  {'ag_005': 'int'},\n",
       "  {'ag_006': 'int'},\n",
       "  {'ag_007': 'int'},\n",
       "  {'ag_008': 'int'},\n",
       "  {'ag_009': 'int'},\n",
       "  {'ah_000': 'int'},\n",
       "  {'ai_000': 'int'},\n",
       "  {'aj_000': 'int'},\n",
       "  {'ak_000': 'int'},\n",
       "  {'al_000': 'int'},\n",
       "  {'am_0': 'int'},\n",
       "  {'an_000': 'int'},\n",
       "  {'ao_000': 'int'},\n",
       "  {'ap_000': 'int'},\n",
       "  {'aq_000': 'int'},\n",
       "  {'ar_000': 'int'},\n",
       "  {'as_000': 'int'},\n",
       "  {'at_000': 'int'},\n",
       "  {'au_000': 'int'},\n",
       "  {'av_000': 'int'},\n",
       "  {'ax_000': 'int'},\n",
       "  {'ay_000': 'int'},\n",
       "  {'ay_001': 'int'},\n",
       "  {'ay_002': 'int'},\n",
       "  {'ay_003': 'int'},\n",
       "  {'ay_004': 'int'},\n",
       "  {'ay_005': 'int'},\n",
       "  {'ay_006': 'int'},\n",
       "  {'ay_007': 'int'},\n",
       "  {'ay_008': 'int'},\n",
       "  {'ay_009': 'int'},\n",
       "  {'az_000': 'int'},\n",
       "  {'az_001': 'int'},\n",
       "  {'az_002': 'int'},\n",
       "  {'az_003': 'int'},\n",
       "  {'az_004': 'int'},\n",
       "  {'az_005': 'int'},\n",
       "  {'az_006': 'int'},\n",
       "  {'az_007': 'int'},\n",
       "  {'az_008': 'int'},\n",
       "  {'az_009': 'int'},\n",
       "  {'ba_000': 'int'},\n",
       "  {'ba_001': 'int'},\n",
       "  {'ba_002': 'int'},\n",
       "  {'ba_003': 'int'},\n",
       "  {'ba_004': 'int'},\n",
       "  {'ba_005': 'int'},\n",
       "  {'ba_006': 'int'},\n",
       "  {'ba_007': 'int'},\n",
       "  {'ba_008': 'int'},\n",
       "  {'ba_009': 'int'},\n",
       "  {'bb_000': 'int'},\n",
       "  {'bc_000': 'int'},\n",
       "  {'bd_000': 'int'},\n",
       "  {'be_000': 'int'},\n",
       "  {'bf_000': 'int'},\n",
       "  {'bg_000': 'int'},\n",
       "  {'bh_000': 'int'},\n",
       "  {'bi_000': 'int'},\n",
       "  {'bj_000': 'int'},\n",
       "  {'bk_000': 'int'},\n",
       "  {'bl_000': 'int'},\n",
       "  {'bm_000': 'int'},\n",
       "  {'bs_000': 'int'},\n",
       "  {'bt_000': 'int'},\n",
       "  {'bu_000': 'int'},\n",
       "  {'bv_000': 'int'},\n",
       "  {'bx_000': 'int'},\n",
       "  {'by_000': 'int'},\n",
       "  {'bz_000': 'int'},\n",
       "  {'ca_000': 'int'},\n",
       "  {'cb_000': 'int'},\n",
       "  {'cc_000': 'int'},\n",
       "  {'cd_000': 'int'},\n",
       "  {'ce_000': 'int'},\n",
       "  {'cf_000': 'int'},\n",
       "  {'cg_000': 'int'},\n",
       "  {'ch_000': 'int'},\n",
       "  {'ci_000': 'int'},\n",
       "  {'cj_000': 'int'},\n",
       "  {'ck_000': 'int'},\n",
       "  {'cl_000': 'int'},\n",
       "  {'cm_000': 'int'},\n",
       "  {'cn_000': 'int'},\n",
       "  {'cn_001': 'int'},\n",
       "  {'cn_002': 'int'},\n",
       "  {'cn_003': 'int'},\n",
       "  {'cn_004': 'int'},\n",
       "  {'cn_005': 'int'},\n",
       "  {'cn_006': 'int'},\n",
       "  {'cn_007': 'int'},\n",
       "  {'cn_008': 'int'},\n",
       "  {'cn_009': 'int'},\n",
       "  {'co_000': 'int'},\n",
       "  {'cp_000': 'int'},\n",
       "  {'cq_000': 'int'},\n",
       "  {'cs_000': 'int'},\n",
       "  {'cs_001': 'int'},\n",
       "  {'cs_002': 'int'},\n",
       "  {'cs_003': 'int'},\n",
       "  {'cs_004': 'int'},\n",
       "  {'cs_005': 'int'},\n",
       "  {'cs_006': 'int'},\n",
       "  {'cs_007': 'int'},\n",
       "  {'cs_008': 'int'},\n",
       "  {'cs_009': 'int'},\n",
       "  {'ct_000': 'int'},\n",
       "  {'cu_000': 'int'},\n",
       "  {'cv_000': 'int'},\n",
       "  {'cx_000': 'int'},\n",
       "  {'cy_000': 'int'},\n",
       "  {'cz_000': 'int'},\n",
       "  {'da_000': 'int'},\n",
       "  {'db_000': 'int'},\n",
       "  {'dc_000': 'int'},\n",
       "  {'dd_000': 'int'},\n",
       "  {'de_000': 'int'},\n",
       "  {'df_000': 'int'},\n",
       "  {'dg_000': 'int'},\n",
       "  {'dh_000': 'int'},\n",
       "  {'di_000': 'int'},\n",
       "  {'dj_000': 'int'},\n",
       "  {'dk_000': 'int'},\n",
       "  {'dl_000': 'int'},\n",
       "  {'dm_000': 'int'},\n",
       "  {'dn_000': 'int'},\n",
       "  {'do_000': 'int'},\n",
       "  {'dp_000': 'int'},\n",
       "  {'dq_000': 'int'},\n",
       "  {'dr_000': 'int'},\n",
       "  {'ds_000': 'int'},\n",
       "  {'dt_000': 'int'},\n",
       "  {'du_000': 'int'},\n",
       "  {'dv_000': 'int'},\n",
       "  {'dx_000': 'int'},\n",
       "  {'dy_000': 'int'},\n",
       "  {'dz_000': 'int'},\n",
       "  {'ea_000': 'int'},\n",
       "  {'eb_000': 'int'},\n",
       "  {'ec_00': 'int'},\n",
       "  {'ed_000': 'int'},\n",
       "  {'ee_000': 'int'},\n",
       "  {'ee_001': 'int'},\n",
       "  {'ee_002': 'int'},\n",
       "  {'ee_003': 'int'},\n",
       "  {'ee_004': 'int'},\n",
       "  {'ee_005': 'int'},\n",
       "  {'ee_006': 'int'},\n",
       "  {'ee_007': 'int'},\n",
       "  {'ee_008': 'int'},\n",
       "  {'ee_009': 'int'},\n",
       "  {'ef_000': 'int'},\n",
       "  {'eg_000': 'int'}],\n",
       " 'numerical_columns': ['aa_000',\n",
       "  'ac_000',\n",
       "  'ad_000',\n",
       "  'ae_000',\n",
       "  'af_000',\n",
       "  'ag_000',\n",
       "  'ag_001',\n",
       "  'ag_002',\n",
       "  'ag_003',\n",
       "  'ag_004',\n",
       "  'ag_005',\n",
       "  'ag_006',\n",
       "  'ag_007',\n",
       "  'ag_008',\n",
       "  'ag_009',\n",
       "  'ah_000',\n",
       "  'ai_000',\n",
       "  'aj_000',\n",
       "  'ak_000',\n",
       "  'al_000',\n",
       "  'am_0',\n",
       "  'an_000',\n",
       "  'ao_000',\n",
       "  'ap_000',\n",
       "  'aq_000',\n",
       "  'ar_000',\n",
       "  'as_000',\n",
       "  'at_000',\n",
       "  'au_000',\n",
       "  'av_000',\n",
       "  'ax_000',\n",
       "  'ay_000',\n",
       "  'ay_001',\n",
       "  'ay_002',\n",
       "  'ay_003',\n",
       "  'ay_004',\n",
       "  'ay_005',\n",
       "  'ay_006',\n",
       "  'ay_007',\n",
       "  'ay_008',\n",
       "  'ay_009',\n",
       "  'az_000',\n",
       "  'az_001',\n",
       "  'az_002',\n",
       "  'az_003',\n",
       "  'az_004',\n",
       "  'az_005',\n",
       "  'az_006',\n",
       "  'az_007',\n",
       "  'az_008',\n",
       "  'az_009',\n",
       "  'ba_000',\n",
       "  'ba_001',\n",
       "  'ba_002',\n",
       "  'ba_003',\n",
       "  'ba_004',\n",
       "  'ba_005',\n",
       "  'ba_006',\n",
       "  'ba_007',\n",
       "  'ba_008',\n",
       "  'ba_009',\n",
       "  'bb_000',\n",
       "  'bc_000',\n",
       "  'bd_000',\n",
       "  'be_000',\n",
       "  'bf_000',\n",
       "  'bg_000',\n",
       "  'bh_000',\n",
       "  'bi_000',\n",
       "  'bj_000',\n",
       "  'bk_000',\n",
       "  'bl_000',\n",
       "  'bm_000',\n",
       "  'bs_000',\n",
       "  'bt_000',\n",
       "  'bu_000',\n",
       "  'bv_000',\n",
       "  'bx_000',\n",
       "  'by_000',\n",
       "  'bz_000',\n",
       "  'ca_000',\n",
       "  'cb_000',\n",
       "  'cc_000',\n",
       "  'cd_000',\n",
       "  'ce_000',\n",
       "  'cf_000',\n",
       "  'cg_000',\n",
       "  'ch_000',\n",
       "  'ci_000',\n",
       "  'cj_000',\n",
       "  'ck_000',\n",
       "  'cl_000',\n",
       "  'cm_000',\n",
       "  'cn_000',\n",
       "  'cn_001',\n",
       "  'cn_002',\n",
       "  'cn_003',\n",
       "  'cn_004',\n",
       "  'cn_005',\n",
       "  'cn_006',\n",
       "  'cn_007',\n",
       "  'cn_008',\n",
       "  'cn_009',\n",
       "  'co_000',\n",
       "  'cp_000',\n",
       "  'cq_000',\n",
       "  'cs_000',\n",
       "  'cs_001',\n",
       "  'cs_002',\n",
       "  'cs_003',\n",
       "  'cs_004',\n",
       "  'cs_005',\n",
       "  'cs_006',\n",
       "  'cs_007',\n",
       "  'cs_008',\n",
       "  'cs_009',\n",
       "  'ct_000',\n",
       "  'cu_000',\n",
       "  'cv_000',\n",
       "  'cx_000',\n",
       "  'cy_000',\n",
       "  'cz_000',\n",
       "  'da_000',\n",
       "  'db_000',\n",
       "  'dc_000',\n",
       "  'dd_000',\n",
       "  'de_000',\n",
       "  'df_000',\n",
       "  'dg_000',\n",
       "  'dh_000',\n",
       "  'di_000',\n",
       "  'dj_000',\n",
       "  'dk_000',\n",
       "  'dl_000',\n",
       "  'dm_000',\n",
       "  'dn_000',\n",
       "  'do_000',\n",
       "  'dp_000',\n",
       "  'dq_000',\n",
       "  'dr_000',\n",
       "  'ds_000',\n",
       "  'dt_000',\n",
       "  'du_000',\n",
       "  'dv_000',\n",
       "  'dx_000',\n",
       "  'dy_000',\n",
       "  'dz_000',\n",
       "  'ea_000',\n",
       "  'eb_000',\n",
       "  'ec_00',\n",
       "  'ed_000',\n",
       "  'ee_000',\n",
       "  'ee_001',\n",
       "  'ee_002',\n",
       "  'ee_003',\n",
       "  'ee_004',\n",
       "  'ee_005',\n",
       "  'ee_006',\n",
       "  'ee_007',\n",
       "  'ee_008',\n",
       "  'ee_009',\n",
       "  'ef_000',\n",
       "  'eg_000'],\n",
       " 'drop_columns': ['br_000',\n",
       "  'bq_000',\n",
       "  'bp_000',\n",
       "  'ab_000',\n",
       "  'cr_000',\n",
       "  'bo_000',\n",
       "  'bn_000']}"
      ]
     },
     "execution_count": 2,
     "metadata": {},
     "output_type": "execute_result"
    }
   ],
   "source": [
    "schema_config = read_yaml_file(file_path)\n",
    "schema_config"
   ]
  },
  {
   "cell_type": "code",
   "execution_count": 4,
   "metadata": {},
   "outputs": [
    {
     "data": {
      "text/plain": [
       "164"
      ]
     },
     "execution_count": 4,
     "metadata": {},
     "output_type": "execute_result"
    }
   ],
   "source": [
    "len(schema_config[\"columns\"])"
   ]
  },
  {
   "cell_type": "code",
   "execution_count": 5,
   "metadata": {},
   "outputs": [],
   "source": [
    "import pandas as pd"
   ]
  },
  {
   "cell_type": "code",
   "execution_count": 12,
   "metadata": {},
   "outputs": [
    {
     "data": {
      "text/html": [
       "<div>\n",
       "<style scoped>\n",
       "    .dataframe tbody tr th:only-of-type {\n",
       "        vertical-align: middle;\n",
       "    }\n",
       "\n",
       "    .dataframe tbody tr th {\n",
       "        vertical-align: top;\n",
       "    }\n",
       "\n",
       "    .dataframe thead th {\n",
       "        text-align: right;\n",
       "    }\n",
       "</style>\n",
       "<table border=\"1\" class=\"dataframe\">\n",
       "  <thead>\n",
       "    <tr style=\"text-align: right;\">\n",
       "      <th></th>\n",
       "      <th>class</th>\n",
       "      <th>aa_000</th>\n",
       "      <th>ab_000</th>\n",
       "      <th>ac_000</th>\n",
       "      <th>ad_000</th>\n",
       "      <th>ae_000</th>\n",
       "      <th>af_000</th>\n",
       "      <th>ag_000</th>\n",
       "      <th>ag_001</th>\n",
       "      <th>ag_002</th>\n",
       "      <th>...</th>\n",
       "      <th>ee_002</th>\n",
       "      <th>ee_003</th>\n",
       "      <th>ee_004</th>\n",
       "      <th>ee_005</th>\n",
       "      <th>ee_006</th>\n",
       "      <th>ee_007</th>\n",
       "      <th>ee_008</th>\n",
       "      <th>ee_009</th>\n",
       "      <th>ef_000</th>\n",
       "      <th>eg_000</th>\n",
       "    </tr>\n",
       "  </thead>\n",
       "  <tbody>\n",
       "    <tr>\n",
       "      <th>0</th>\n",
       "      <td>pos</td>\n",
       "      <td>72504</td>\n",
       "      <td>NaN</td>\n",
       "      <td>1594</td>\n",
       "      <td>1052.0</td>\n",
       "      <td>0</td>\n",
       "      <td>0</td>\n",
       "      <td>0</td>\n",
       "      <td>244</td>\n",
       "      <td>178226</td>\n",
       "      <td>...</td>\n",
       "      <td>1432098</td>\n",
       "      <td>372252</td>\n",
       "      <td>527514</td>\n",
       "      <td>358274</td>\n",
       "      <td>332818</td>\n",
       "      <td>284178</td>\n",
       "      <td>3742</td>\n",
       "      <td>0</td>\n",
       "      <td>0</td>\n",
       "      <td>0</td>\n",
       "    </tr>\n",
       "    <tr>\n",
       "      <th>1</th>\n",
       "      <td>pos</td>\n",
       "      <td>199350</td>\n",
       "      <td>0.0</td>\n",
       "      <td>468</td>\n",
       "      <td>58.0</td>\n",
       "      <td>0</td>\n",
       "      <td>0</td>\n",
       "      <td>0</td>\n",
       "      <td>0</td>\n",
       "      <td>0</td>\n",
       "      <td>...</td>\n",
       "      <td>282224</td>\n",
       "      <td>95380</td>\n",
       "      <td>237386</td>\n",
       "      <td>479518</td>\n",
       "      <td>899682</td>\n",
       "      <td>615538</td>\n",
       "      <td>7440</td>\n",
       "      <td>180</td>\n",
       "      <td>0</td>\n",
       "      <td>0</td>\n",
       "    </tr>\n",
       "    <tr>\n",
       "      <th>2</th>\n",
       "      <td>pos</td>\n",
       "      <td>892422</td>\n",
       "      <td>2.0</td>\n",
       "      <td>1342</td>\n",
       "      <td>1100.0</td>\n",
       "      <td>0</td>\n",
       "      <td>0</td>\n",
       "      <td>0</td>\n",
       "      <td>2716</td>\n",
       "      <td>656148</td>\n",
       "      <td>...</td>\n",
       "      <td>3500996</td>\n",
       "      <td>1980134</td>\n",
       "      <td>5102372</td>\n",
       "      <td>7882256</td>\n",
       "      <td>14095922</td>\n",
       "      <td>6605678</td>\n",
       "      <td>206190</td>\n",
       "      <td>774</td>\n",
       "      <td>0</td>\n",
       "      <td>0</td>\n",
       "    </tr>\n",
       "    <tr>\n",
       "      <th>3</th>\n",
       "      <td>pos</td>\n",
       "      <td>967376</td>\n",
       "      <td>NaN</td>\n",
       "      <td>8660</td>\n",
       "      <td>8660.0</td>\n",
       "      <td>0</td>\n",
       "      <td>0</td>\n",
       "      <td>0</td>\n",
       "      <td>0</td>\n",
       "      <td>0</td>\n",
       "      <td>...</td>\n",
       "      <td>11377600</td>\n",
       "      <td>5432058</td>\n",
       "      <td>11165988</td>\n",
       "      <td>8940384</td>\n",
       "      <td>4927202</td>\n",
       "      <td>1868356</td>\n",
       "      <td>855366</td>\n",
       "      <td>42</td>\n",
       "      <td>0</td>\n",
       "      <td>0</td>\n",
       "    </tr>\n",
       "    <tr>\n",
       "      <th>4</th>\n",
       "      <td>pos</td>\n",
       "      <td>590444</td>\n",
       "      <td>NaN</td>\n",
       "      <td>0</td>\n",
       "      <td>NaN</td>\n",
       "      <td>0</td>\n",
       "      <td>0</td>\n",
       "      <td>0</td>\n",
       "      <td>0</td>\n",
       "      <td>0</td>\n",
       "      <td>...</td>\n",
       "      <td>5177836</td>\n",
       "      <td>2567578</td>\n",
       "      <td>5234638</td>\n",
       "      <td>4877190</td>\n",
       "      <td>3544400</td>\n",
       "      <td>1805986</td>\n",
       "      <td>2901856</td>\n",
       "      <td>138534</td>\n",
       "      <td>0</td>\n",
       "      <td>0</td>\n",
       "    </tr>\n",
       "  </tbody>\n",
       "</table>\n",
       "<p>5 rows × 171 columns</p>\n",
       "</div>"
      ],
      "text/plain": [
       "  class  aa_000  ab_000  ac_000  ad_000  ae_000  af_000  ag_000  ag_001  \\\n",
       "0   pos   72504     NaN    1594  1052.0       0       0       0     244   \n",
       "1   pos  199350     0.0     468    58.0       0       0       0       0   \n",
       "2   pos  892422     2.0    1342  1100.0       0       0       0    2716   \n",
       "3   pos  967376     NaN    8660  8660.0       0       0       0       0   \n",
       "4   pos  590444     NaN       0     NaN       0       0       0       0   \n",
       "\n",
       "   ag_002  ...    ee_002   ee_003    ee_004   ee_005    ee_006   ee_007  \\\n",
       "0  178226  ...   1432098   372252    527514   358274    332818   284178   \n",
       "1       0  ...    282224    95380    237386   479518    899682   615538   \n",
       "2  656148  ...   3500996  1980134   5102372  7882256  14095922  6605678   \n",
       "3       0  ...  11377600  5432058  11165988  8940384   4927202  1868356   \n",
       "4       0  ...   5177836  2567578   5234638  4877190   3544400  1805986   \n",
       "\n",
       "    ee_008  ee_009  ef_000  eg_000  \n",
       "0     3742       0       0       0  \n",
       "1     7440     180       0       0  \n",
       "2   206190     774       0       0  \n",
       "3   855366      42       0       0  \n",
       "4  2901856  138534       0       0  \n",
       "\n",
       "[5 rows x 171 columns]"
      ]
     },
     "execution_count": 12,
     "metadata": {},
     "output_type": "execute_result"
    }
   ],
   "source": [
    "df = pd.read_csv(\"data\\sensor.csv\", nrows=5)\n",
    "df.head()"
   ]
  },
  {
   "cell_type": "code",
   "execution_count": 9,
   "metadata": {},
   "outputs": [
    {
     "data": {
      "text/plain": [
       "171"
      ]
     },
     "execution_count": 9,
     "metadata": {},
     "output_type": "execute_result"
    }
   ],
   "source": [
    "len(df.columns)"
   ]
  },
  {
   "cell_type": "code",
   "execution_count": 10,
   "metadata": {},
   "outputs": [],
   "source": [
    "# Sample DataFrame\n",
    "data = {\n",
    "    'A': [1, 2, 3, 4],\n",
    "    'B': [1.5, 2.5, 3.5, 4.5],\n",
    "    'C': ['apple', 'banana', 'cherry', 'date'],\n",
    "    'D': [True, False, True, False]\n",
    "}\n"
   ]
  },
  {
   "cell_type": "code",
   "execution_count": 15,
   "metadata": {},
   "outputs": [
    {
     "data": {
      "text/html": [
       "<div>\n",
       "<style scoped>\n",
       "    .dataframe tbody tr th:only-of-type {\n",
       "        vertical-align: middle;\n",
       "    }\n",
       "\n",
       "    .dataframe tbody tr th {\n",
       "        vertical-align: top;\n",
       "    }\n",
       "\n",
       "    .dataframe thead th {\n",
       "        text-align: right;\n",
       "    }\n",
       "</style>\n",
       "<table border=\"1\" class=\"dataframe\">\n",
       "  <thead>\n",
       "    <tr style=\"text-align: right;\">\n",
       "      <th></th>\n",
       "      <th>A</th>\n",
       "      <th>B</th>\n",
       "      <th>C</th>\n",
       "      <th>D</th>\n",
       "    </tr>\n",
       "  </thead>\n",
       "  <tbody>\n",
       "    <tr>\n",
       "      <th>0</th>\n",
       "      <td>1</td>\n",
       "      <td>1.5</td>\n",
       "      <td>apple</td>\n",
       "      <td>True</td>\n",
       "    </tr>\n",
       "    <tr>\n",
       "      <th>1</th>\n",
       "      <td>2</td>\n",
       "      <td>2.5</td>\n",
       "      <td>banana</td>\n",
       "      <td>False</td>\n",
       "    </tr>\n",
       "    <tr>\n",
       "      <th>2</th>\n",
       "      <td>3</td>\n",
       "      <td>3.5</td>\n",
       "      <td>cherry</td>\n",
       "      <td>True</td>\n",
       "    </tr>\n",
       "    <tr>\n",
       "      <th>3</th>\n",
       "      <td>4</td>\n",
       "      <td>4.5</td>\n",
       "      <td>date</td>\n",
       "      <td>False</td>\n",
       "    </tr>\n",
       "  </tbody>\n",
       "</table>\n",
       "</div>"
      ],
      "text/plain": [
       "   A    B       C      D\n",
       "0  1  1.5   apple   True\n",
       "1  2  2.5  banana  False\n",
       "2  3  3.5  cherry   True\n",
       "3  4  4.5    date  False"
      ]
     },
     "execution_count": 15,
     "metadata": {},
     "output_type": "execute_result"
    }
   ],
   "source": [
    "df = pd.DataFrame(data)\n",
    "df.head()"
   ]
  },
  {
   "cell_type": "code",
   "execution_count": 16,
   "metadata": {},
   "outputs": [
    {
     "name": "stdout",
     "output_type": "stream",
     "text": [
      "Index(['A', 'B'], dtype='object')\n"
     ]
    }
   ],
   "source": [
    "numerical_columns_names = df.select_dtypes(include= \"number\").columns\n",
    "print(numerical_columns_names)"
   ]
  },
  {
   "cell_type": "code",
   "execution_count": 17,
   "metadata": {},
   "outputs": [
    {
     "name": "stdout",
     "output_type": "stream",
     "text": [
      "Index(['C', 'D'], dtype='object')\n"
     ]
    }
   ],
   "source": [
    "categorical_columns_names = df.select_dtypes(exclude= \"number\").columns\n",
    "print(categorical_columns_names)"
   ]
  },
  {
   "cell_type": "markdown",
   "metadata": {},
   "source": [
    "## Decorators\n",
    "\n",
    "- @staticmethod\n",
    "- @dataclass\n",
    "- @classmethod"
   ]
  },
  {
   "cell_type": "code",
   "execution_count": null,
   "metadata": {},
   "outputs": [],
   "source": [
    "## @staticmethod:  A static method is used when the method logic does not require access to the class `(cls)` \n",
    "# or instance `(self)`. It is often used for utility functions"
   ]
  },
  {
   "cell_type": "code",
   "execution_count": 1,
   "metadata": {},
   "outputs": [],
   "source": [
    "class Mathoperations:\n",
    "    \n",
    "    @staticmethod\n",
    "    def add_numbers(a, b):\n",
    "        return a + b\n",
    "    \n",
    "    @staticmethod\n",
    "    def multiply_number(a, b):\n",
    "        return a * b"
   ]
  },
  {
   "cell_type": "code",
   "execution_count": 2,
   "metadata": {},
   "outputs": [
    {
     "name": "stdout",
     "output_type": "stream",
     "text": [
      "8\n"
     ]
    }
   ],
   "source": [
    "print(Mathoperations.add_numbers(5, 3))"
   ]
  },
  {
   "cell_type": "code",
   "execution_count": 3,
   "metadata": {},
   "outputs": [
    {
     "name": "stdout",
     "output_type": "stream",
     "text": [
      "15\n"
     ]
    }
   ],
   "source": [
    "print(Mathoperations.multiply_number(5, 3))"
   ]
  },
  {
   "cell_type": "code",
   "execution_count": null,
   "metadata": {},
   "outputs": [],
   "source": [
    "## @dataclass: A @dataclass is used for classes that are primarily used to store data, making \n",
    "# the class definition more concise by automatically generating methods like `__init__`, `__repr__`, and `__eq__`"
   ]
  },
  {
   "cell_type": "code",
   "execution_count": 4,
   "metadata": {},
   "outputs": [],
   "source": [
    "from dataclasses import dataclass"
   ]
  },
  {
   "cell_type": "code",
   "execution_count": 5,
   "metadata": {},
   "outputs": [],
   "source": [
    "@dataclass\n",
    "\n",
    "class Car:\n",
    "    make: str\n",
    "    model: str\n",
    "    year: int\n",
    "    mileage: float= 0.0"
   ]
  },
  {
   "cell_type": "code",
   "execution_count": 6,
   "metadata": {},
   "outputs": [
    {
     "name": "stdout",
     "output_type": "stream",
     "text": [
      "Car(make='Toyota', model='Corolla', year=2020, mileage=0.0)\n"
     ]
    }
   ],
   "source": [
    "car1 = Car(make=\"Toyota\", model=\"Corolla\", year=2020)\n",
    "print(car1)"
   ]
  },
  {
   "cell_type": "code",
   "execution_count": 7,
   "metadata": {},
   "outputs": [
    {
     "data": {
      "text/plain": [
       "'Toyota'"
      ]
     },
     "execution_count": 7,
     "metadata": {},
     "output_type": "execute_result"
    }
   ],
   "source": [
    "car1.make"
   ]
  },
  {
   "cell_type": "code",
   "execution_count": 8,
   "metadata": {},
   "outputs": [
    {
     "data": {
      "text/plain": [
       "0.0"
      ]
     },
     "execution_count": 8,
     "metadata": {},
     "output_type": "execute_result"
    }
   ],
   "source": [
    "car1.mileage"
   ]
  },
  {
   "cell_type": "code",
   "execution_count": 9,
   "metadata": {},
   "outputs": [],
   "source": [
    "## @classmethod:  A class method is used when you need to access or modify class-level data. It is defined using `@classmethod` and takes `cls` as its first parameter."
   ]
  },
  {
   "cell_type": "code",
   "execution_count": 11,
   "metadata": {},
   "outputs": [],
   "source": [
    "class Circle:\n",
    "    pi = 3.14\n",
    "    \n",
    "    def __init__(self, radius):\n",
    "        self.radius = radius\n",
    "    \n",
    "    @classmethod\n",
    "    def from_diameter(cls, diameter):\n",
    "        radius = diameter / 2\n",
    "        return cls(radius)\n",
    "    \n",
    "    @classmethod\n",
    "    \n",
    "    def change_pi(cls, new_value):\n",
    "        cls.pi = new_value"
   ]
  },
  {
   "cell_type": "code",
   "execution_count": 12,
   "metadata": {},
   "outputs": [
    {
     "name": "stdout",
     "output_type": "stream",
     "text": [
      "5.0\n"
     ]
    }
   ],
   "source": [
    "circle1 = Circle.from_diameter(10)\n",
    "print(circle1.radius)"
   ]
  },
  {
   "cell_type": "code",
   "execution_count": 13,
   "metadata": {},
   "outputs": [
    {
     "name": "stdout",
     "output_type": "stream",
     "text": [
      "3\n"
     ]
    }
   ],
   "source": [
    "Circle.change_pi(3)\n",
    "print(Circle.pi)"
   ]
  },
  {
   "cell_type": "code",
   "execution_count": 15,
   "metadata": {},
   "outputs": [],
   "source": [
    "class TargetValueMapping:\n",
    "    \"\"\"\n",
    "    A class to manage target value mappings for binary classification.\n",
    "    \"\"\"\n",
    "    def __init__(self):\n",
    "        \"\"\"\n",
    "        Initializes the mapping for negative and positive target values.\n",
    "        \"\"\"\n",
    "        self.neg: int = 0\n",
    "        self.pos: int = 1\n",
    "\n",
    "    def to_dict(self) -> dict:\n",
    "        \"\"\"\n",
    "        Converts the target value mappings to a dictionary.\n",
    "\n",
    "        Returns:\n",
    "            dict: A dictionary representation of the mappings.\n",
    "        \"\"\"\n",
    "        return self.__dict__\n",
    "    def reverse_mapping(self) -> dict:\n",
    "        \"\"\"\n",
    "        Creates a reverse mapping of the target values.\n",
    "\n",
    "        Returns:\n",
    "            dict: A dictionary with the keys and values swapped.\n",
    "        \"\"\"\n",
    "        mapping_response = self.to_dict()\n",
    "        return dict(zip(mapping_response.values(), mapping_response.keys()))"
   ]
  },
  {
   "cell_type": "code",
   "execution_count": 16,
   "metadata": {},
   "outputs": [],
   "source": [
    "mapping = TargetValueMapping()"
   ]
  },
  {
   "cell_type": "code",
   "execution_count": 17,
   "metadata": {},
   "outputs": [
    {
     "name": "stdout",
     "output_type": "stream",
     "text": [
      "{'neg': 0, 'pos': 1}\n"
     ]
    }
   ],
   "source": [
    "print(mapping.to_dict())    "
   ]
  },
  {
   "cell_type": "code",
   "execution_count": 18,
   "metadata": {},
   "outputs": [
    {
     "name": "stdout",
     "output_type": "stream",
     "text": [
      "{0: 'neg', 1: 'pos'}\n"
     ]
    }
   ],
   "source": [
    "print(mapping.reverse_mapping())"
   ]
  },
  {
   "cell_type": "code",
   "execution_count": null,
   "metadata": {},
   "outputs": [],
   "source": []
  }
 ],
 "metadata": {
  "kernelspec": {
   "display_name": "Python 3",
   "language": "python",
   "name": "python3"
  },
  "language_info": {
   "codemirror_mode": {
    "name": "ipython",
    "version": 3
   },
   "file_extension": ".py",
   "mimetype": "text/x-python",
   "name": "python",
   "nbconvert_exporter": "python",
   "pygments_lexer": "ipython3",
   "version": "3.8.0"
  }
 },
 "nbformat": 4,
 "nbformat_minor": 2
}
